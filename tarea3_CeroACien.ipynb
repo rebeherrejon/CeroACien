{
  "metadata": {
    "kernelspec": {
      "name": "python",
      "display_name": "Python (Pyodide)",
      "language": "python"
    },
    "language_info": {
      "codemirror_mode": {
        "name": "python",
        "version": 3
      },
      "file_extension": ".py",
      "mimetype": "text/x-python",
      "name": "python",
      "nbconvert_exporter": "python",
      "pygments_lexer": "ipython3",
      "version": "3.8"
    }
  },
  "nbformat_minor": 4,
  "nbformat": 4,
  "cells": [
    {
      "cell_type": "code",
      "source": "def elimina(lista):\n    if len(lista) > 2:\n        lista_nueva = lista[1:-1]\n    else:\n        lista_nueva =[]\n    return lista_nueva",
      "metadata": {
        "trusted": true
      },
      "outputs": [],
      "execution_count": 7
    },
    {
      "cell_type": "code",
      "source": "lista = [1,2,3,4,5]\nresultado = elimina(lista)\nprint(resultado)",
      "metadata": {
        "trusted": true
      },
      "outputs": [
        {
          "name": "stdout",
          "text": "[2, 3, 4]\n",
          "output_type": "stream"
        }
      ],
      "execution_count": 8
    },
    {
      "cell_type": "code",
      "source": "def lista_ordenada(lista):\n    for i in range(len(lista) -1):\n        if lista[i] > lista[i + 1]:\n            return False\n    return True",
      "metadata": {
        "trusted": true
      },
      "outputs": [],
      "execution_count": 14
    },
    {
      "cell_type": "code",
      "source": "print(lista_ordenada([1,2,3]))",
      "metadata": {
        "trusted": true
      },
      "outputs": [
        {
          "name": "stdout",
          "text": "True\n",
          "output_type": "stream"
        }
      ],
      "execution_count": 15
    },
    {
      "cell_type": "code",
      "source": "print(lista_ordenada([8,9,1]))",
      "metadata": {
        "trusted": true
      },
      "outputs": [
        {
          "name": "stdout",
          "text": "False\n",
          "output_type": "stream"
        }
      ],
      "execution_count": 16
    },
    {
      "cell_type": "code",
      "source": "nombres = (\"Pepa\",\"Pancho\",\"Diego\",\"Natalia\",\"Diego\",\"María\",\"María\")",
      "metadata": {
        "trusted": true
      },
      "outputs": [],
      "execution_count": 31
    },
    {
      "cell_type": "code",
      "source": "print(nombres)",
      "metadata": {
        "trusted": true
      },
      "outputs": [
        {
          "name": "stdout",
          "text": "('Pepa', 'Pancho', 'Diego', 'Natalia', 'Diego', 'María', 'María')\n",
          "output_type": "stream"
        }
      ],
      "execution_count": 32
    },
    {
      "cell_type": "code",
      "source": "nombres_unicos = list(set(estudiantes))",
      "metadata": {
        "trusted": true
      },
      "outputs": [],
      "execution_count": 33
    },
    {
      "cell_type": "code",
      "source": "print(nombres_unicos)",
      "metadata": {
        "trusted": true
      },
      "outputs": [
        {
          "name": "stdout",
          "text": "['Pancho', 'Natalia', 'Diego', 'María', 'Pepa']\n",
          "output_type": "stream"
        }
      ],
      "execution_count": 34
    },
    {
      "cell_type": "code",
      "source": "def elimina_duplicados(lista):\n    nombres_unicos = set(lista)\n    lista_unicos = list(nombres_unicos)\n    return nombres_unicos",
      "metadata": {
        "trusted": true
      },
      "outputs": [],
      "execution_count": 35
    },
    {
      "cell_type": "code",
      "source": "print(elimina_duplicados([\"Pepa\",\"Pancho\",\"Diego\",\"Natalia\",\"Diego\",\"María\",\"María\",\"José\",\"Sancho\",\"José\"]))",
      "metadata": {
        "trusted": true
      },
      "outputs": [
        {
          "name": "stdout",
          "text": "{'José', 'Sancho', 'Pancho', 'Natalia', 'Diego', 'María', 'Pepa'}\n",
          "output_type": "stream"
        }
      ],
      "execution_count": 36
    },
    {
      "cell_type": "code",
      "source": "set(nombres)",
      "metadata": {
        "trusted": true
      },
      "outputs": [
        {
          "execution_count": 37,
          "output_type": "execute_result",
          "data": {
            "text/plain": "{'Diego', 'María', 'Natalia', 'Pancho', 'Pepa'}"
          },
          "metadata": {}
        }
      ],
      "execution_count": 37
    },
    {
      "cell_type": "code",
      "source": "nombres = (\"Pepa\",\"Pancho\",\"Diego\",\"Natalia\",\"Diego\",\"María\",\"María\",\"José\",\"Sancho\",\"José\")",
      "metadata": {
        "trusted": true
      },
      "outputs": [],
      "execution_count": 43
    },
    {
      "cell_type": "code",
      "source": "if len(nombres) != len(set(nombres)):\n    print(True)\nelse:\n    print(False)",
      "metadata": {
        "trusted": true
      },
      "outputs": [
        {
          "name": "stdout",
          "text": "True\n",
          "output_type": "stream"
        }
      ],
      "execution_count": 44
    },
    {
      "cell_type": "code",
      "source": "",
      "metadata": {
        "trusted": true
      },
      "outputs": [],
      "execution_count": null
    }
  ]
}